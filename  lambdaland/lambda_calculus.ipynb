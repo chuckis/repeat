{
 "cells": [
  {
   "cell_type": "markdown",
   "metadata": {},
   "source": [
    "# Лямбда-исчисление: От теории к практике\n",
    "## Интерактивное введение в функциональное программирование\n",
    "\n",
    "Этот notebook проведёт вас через основы лямбда-исчисления и покажет, как эти идеи используются в современном программировании."
   ]
  },
  {
   "cell_type": "markdown",
   "metadata": {},
   "source": [
    "## Часть 1: Основы лямбда-исчисления\n",
    "\n",
    "Лямбда-исчисление — минималистичная формальная система из трёх элементов:\n",
    "\n",
    "1. **Переменные**: `x`, `y`, `z`\n",
    "2. **Абстракция** (создание функции): `λx.M`\n",
    "3. **Применение** (вызов функции): `(M N)`\n",
    "\n",
    "В Python лямбда-выражения записываются так:\n",
    "```\n",
    "λx.x  →  lambda x: x\n",
    "```"
   ]
  },
  {
   "cell_type": "code",
   "execution_count": null,
   "metadata": {},
   "outputs": [],
   "source": [
    "# Простейшая функция — тождественная (identity)\n",
    "identity = lambda x: x\n",
    "\n",
    "print(\"Тест identity функции:\")\n",
    "print(identity(5))        # 5\n",
    "print(identity(\"hello\"))  # \"hello\""
   ]
  },
  {
   "cell_type": "markdown",
   "metadata": {},
   "source": [
    "### β-редукция — основное правило вычисления\n",
    "\n",
    "```\n",
    "(λx.x + 1) 5  →  5 + 1  →  6\n",
    "```\n",
    "\n",
    "Это правило подстановки: заменяем параметр на аргумент."
   ]
  },
  {
   "cell_type": "code",
   "execution_count": null,
   "metadata": {},
   "outputs": [],
   "source": [
    "add_one = lambda x: x + 1\n",
    "print(\"Тест β-редукции:\")\n",
    "print(add_one(5))  # 6"
   ]
  },
  {
   "cell_type": "markdown",
   "metadata": {},
   "source": [
    "## Часть 2: Каррирование и замыкания\n",
    "\n",
    "**Каррирование**: функция с несколькими параметрами превращается в цепочку функций с одним параметром.\n",
    "\n",
    "```\n",
    "λx.λy.x + y\n",
    "```\n",
    "\n",
    "означает \"функция, которая принимает `x` и возвращает функцию, которая принимает `y`\""
   ]
  },
  {
   "cell_type": "code",
   "execution_count": null,
   "metadata": {},
   "outputs": [],
   "source": [
    "# Обычная функция vs каррированная\n",
    "def add_normal(x, y):\n",
    "    return x + y\n",
    "\n",
    "add_curried = lambda x: lambda y: x + y\n",
    "\n",
    "print(\"=== Каррирование ===\")\n",
    "print(\"Обычная функция:\", add_normal(3, 5))\n",
    "\n",
    "# Каррированная функция может быть частично применена\n",
    "add_3 = add_curried(3)  # Замыкание! Помнит x=3\n",
    "print(\"Частичное применение:\", add_3(5))\n",
    "print(\"Полное применение:\", add_curried(3)(5))"
   ]
  },
  {
   "cell_type": "markdown",
   "metadata": {},
   "source": [
    "### Практический пример: создание специализированных функций"
   ]
  },
  {
   "cell_type": "code",
   "execution_count": null,
   "metadata": {},
   "outputs": [],
   "source": [
    "multiply = lambda x: lambda y: x * y\n",
    "\n",
    "double = multiply(2)\n",
    "triple = multiply(3)\n",
    "times_10 = multiply(10)\n",
    "\n",
    "numbers = [1, 2, 3, 4, 5]\n",
    "print(\"Практическое применение:\")\n",
    "print(\"Удвоение:\", list(map(double, numbers)))\n",
    "print(\"Утроение:\", list(map(triple, numbers)))"
   ]
  },
  {
   "cell_type": "markdown",
   "metadata": {},
   "source": [
    "## Часть 3: Числа Чёрча\n",
    "\n",
    "Алонзо Чёрч показал, что числа можно закодировать через функции!\n",
    "\n",
    "**Идея**: число n = \"применить функцию n раз\"\n",
    "\n",
    "```\n",
    "0 = λf.λx.x           (не применяем f)\n",
    "1 = λf.λx.f x         (применяем f один раз)  \n",
    "2 = λf.λx.f (f x)     (применяем f два раза)\n",
    "3 = λf.λx.f (f (f x)) (применяем f три раза)\n",
    "```"
   ]
  },
  {
   "cell_type": "code",
   "execution_count": null,
   "metadata": {},
   "outputs": [],
   "source": [
    "# Определяем числа Чёрча\n",
    "zero  = lambda f: lambda x: x\n",
    "one   = lambda f: lambda x: f(x)\n",
    "two   = lambda f: lambda x: f(f(x))\n",
    "three = lambda f: lambda x: f(f(f(x)))\n",
    "four  = lambda f: lambda x: f(f(f(f(x))))\n",
    "five  = lambda f: lambda x: f(f(f(f(f(x)))))"
   ]
  },
  {
   "cell_type": "markdown",
   "metadata": {},
   "source": [
    "### Визуализация чисел Чёрча"
   ]
  },
  {
   "cell_type": "code",
   "execution_count": null,
   "metadata": {},
   "outputs": [],
   "source": [
    "# Визуализация: добавляем звёздочки\n",
    "add_star = lambda s: s + \"*\"\n",
    "\n",
    "print(\"=== Числа Чёрча ===\")\n",
    "print(f\"zero:  '{zero(add_star)('')}'\")\n",
    "print(f\"one:   '{one(add_star)('')}'\")\n",
    "print(f\"two:   '{two(add_star)('')}'\")\n",
    "print(f\"three: '{three(add_star)('')}'\")\n",
    "print(f\"four:  '{four(add_star)('')}'\")\n",
    "print(f\"five:  '{five(add_star)('')}'\")"
   ]
  },
  {
   "cell_type": "code",
   "execution_count": null,
   "metadata": {},
   "outputs": [],
   "source": [
    "# Преобразование в обычные числа Python\n",
    "def church_to_int(church_num):\n",
    "    \"\"\"Конвертирует число Чёрча в обычное целое число\"\"\"\n",
    "    return church_num(lambda n: n + 1)(0)\n",
    "\n",
    "print(\"Преобразование в int:\")\n",
    "print(f\"three = {church_to_int(three)}\")\n",
    "print(f\"five = {church_to_int(five)}\")"
   ]
  },
  {
   "cell_type": "markdown",
   "metadata": {},
   "source": [
    "## Часть 4: Арифметика с числами Чёрча\n",
    "\n",
    "### Сложение\n",
    "\n",
    "Если `m` применяет `f` m раз, а `n` применяет `f` n раз, то сначала применим `n`, потом `m` к результату → (m+n) раз"
   ]
  },
  {
   "cell_type": "code",
   "execution_count": null,
   "metadata": {},
   "outputs": [],
   "source": [
    "def add(m, n):\n",
    "    \"\"\"Сложение чисел Чёрча\"\"\"\n",
    "    return lambda f: lambda x: m(f)(n(f)(x))\n",
    "\n",
    "print(\"=== Арифметика ===\")\n",
    "result = add(two, three)\n",
    "print(f\"two + three = {church_to_int(result)}\")\n",
    "\n",
    "result = add(four, one)\n",
    "print(f\"four + one = {church_to_int(result)}\")"
   ]
  },
  {
   "cell_type": "markdown",
   "metadata": {},
   "source": [
    "### Умножение\n",
    "\n",
    "\"Применить (применить `f` n раз) m раз\" = применить `f` (m × n) раз"
   ]
  },
  {
   "cell_type": "code",
   "execution_count": null,
   "metadata": {},
   "outputs": [],
   "source": [
    "def multiply(m, n):\n",
    "    \"\"\"Умножение чисел Чёрча\"\"\"\n",
    "    return lambda f: m(n(f))\n",
    "\n",
    "result = multiply(two, three)\n",
    "print(f\"two × three = {church_to_int(result)}\")\n",
    "\n",
    "result = multiply(three, four)\n",
    "print(f\"three × four = {church_to_int(result)}\")"
   ]
  },
  {
   "cell_type": "markdown",
   "metadata": {},
   "source": [
    "## Часть 5: Булевы значения\n",
    "\n",
    "Булевы значения = функции-селекторы\n",
    "\n",
    "```\n",
    "true  = λx.λy.x  (выбирает первый аргумент)\n",
    "false = λx.λy.y  (выбирает второй аргумент)\n",
    "```"
   ]
  },
  {
   "cell_type": "code",
   "execution_count": null,
   "metadata": {},
   "outputs": [],
   "source": [
    "true  = lambda x: lambda y: x\n",
    "false = lambda x: lambda y: y\n",
    "\n",
    "print(\"=== Булевы значения ===\")\n",
    "print(f\"true выбирает:  {true('первый')('второй')}\")\n",
    "print(f\"false выбирает: {false('первый')('второй')}\")"
   ]
  },
  {
   "cell_type": "markdown",
   "metadata": {},
   "source": [
    "### Условный оператор"
   ]
  },
  {
   "cell_type": "code",
   "execution_count": null,
   "metadata": {},
   "outputs": [],
   "source": [
    "def if_then_else(condition, then_value, else_value):\n",
    "    \"\"\"\n",
    "    condition — это уже функция-селектор!\n",
    "    Просто передаём ей значения для выбора\n",
    "    \"\"\"\n",
    "    return condition(then_value)(else_value)\n",
    "\n",
    "print(\"Условный оператор:\")\n",
    "print(f\"if true then 'да' else 'нет': {if_then_else(true, 'да', 'нет')}\")\n",
    "print(f\"if false then 'да' else 'нет': {if_then_else(false, 'да', 'нет')}\")"
   ]
  },
  {
   "cell_type": "markdown",
   "metadata": {},
   "source": [
    "### Логические операции"
   ]
  },
  {
   "cell_type": "code",
   "execution_count": null,
   "metadata": {},
   "outputs": [],
   "source": [
    "def and_op(a, b):\n",
    "    \"\"\"Логическое И через лямбда-исчисление\"\"\"\n",
    "    return a(b)(false)\n",
    "\n",
    "def or_op(a, b):\n",
    "    \"\"\"Логическое ИЛИ через лямбда-исчисление\"\"\"\n",
    "    return a(true)(b)\n",
    "\n",
    "def not_op(a):\n",
    "    \"\"\"Логическое НЕ через лямбда-исчисление\"\"\"\n",
    "    return a(false)(true)\n",
    "\n",
    "# Преобразование в Python bool\n",
    "to_bool = lambda church_bool: church_bool(True)(False)\n",
    "\n",
    "print(\"Логические операции:\")\n",
    "print(f\"true AND true = {to_bool(and_op(true, true))}\")\n",
    "print(f\"true AND false = {to_bool(and_op(true, false))}\")\n",
    "print(f\"true OR false = {to_bool(or_op(true, false))}\")\n",
    "print(f\"NOT true = {to_bool(not_op(true))}\")"
   ]
  },
  {
   "cell_type": "markdown",
   "metadata": {},
   "source": [
    "## Часть 6: Рекурсия без имён\n",
    "\n",
    "**Проблема**: в чистом лямбда-исчислении нет имён функций. Как сделать рекурсию без имени?\n",
    "\n",
    "**Решение**: функция получает саму себя как параметр!"
   ]
  },
  {
   "cell_type": "code",
   "execution_count": null,
   "metadata": {},
   "outputs": [],
   "source": [
    "print(\"=== Рекурсия ===\")\n",
    "\n",
    "# Самоприменяющийся факториал\n",
    "factorial_self = lambda self, n: 1 if n == 0 else n * self(self, n - 1)\n",
    "\n",
    "print(\"Факториал через самоприменение:\")\n",
    "print(f\"factorial(5) = {factorial_self(factorial_self, 5)}\")\n",
    "print(f\"factorial(7) = {factorial_self(factorial_self, 7)}\")"
   ]
  },
  {
   "cell_type": "code",
   "execution_count": null,
   "metadata": {},
   "outputs": [],
   "source": [
    "# Числа Фибоначчи\n",
    "fib_self = lambda self, n: n if n <= 1 else self(self, n-1) + self(self, n-2)\n",
    "\n",
    "print(\"Числа Фибоначчи:\")\n",
    "for i in range(10):\n",
    "    print(f\"fib({i}) = {fib_self(fib_self, i)}\", end=\"  \")\n",
    "print()"
   ]
  },
  {
   "cell_type": "markdown",
   "metadata": {},
   "source": [
    "## Часть 7: Y-комбинатор (продвинутый уровень)\n",
    "\n",
    "Y-комбинатор — это \"магическая\" функция, которая добавляет рекурсию к любой функции без использования имён.\n",
    "\n",
    "```\n",
    "Y = λf.(λx.f(x x))(λx.f(x x))\n",
    "```\n",
    "\n",
    "Упрощённая версия для Python:"
   ]
  },
  {
   "cell_type": "code",
   "execution_count": null,
   "metadata": {},
   "outputs": [],
   "source": [
    "def Y(f):\n",
    "    \"\"\"Упрощённый Y-комбинатор для Python\"\"\"\n",
    "    return (lambda x: f(lambda *args: x(x)(*args)))(\n",
    "            lambda x: f(lambda *args: x(x)(*args)))\n",
    "\n",
    "# Теперь можем писать рекурсивные функции без самоссылок!\n",
    "factorial = Y(lambda f: lambda n: 1 if n == 0 else n * f(n - 1))\n",
    "\n",
    "print(\"=== Y-комбинатор ===\")\n",
    "print(f\"factorial(6) = {factorial(6)}\")\n",
    "\n",
    "fibonacci = Y(lambda f: lambda n: n if n <= 1 else f(n-1) + f(n-2))\n",
    "print(f\"fibonacci(10) = {fibonacci(10)}\")"
   ]
  },
  {
   "cell_type": "markdown",
   "metadata": {},
   "source": [
    "## Часть 8: Практическое применение\n",
    "\n",
    "Идеи из лямбда-исчисления используются в современном программировании:"
   ]
  },
  {
   "cell_type": "markdown",
   "metadata": {},
   "source": [
    "### 1. Композиция функций"
   ]
  },
  {
   "cell_type": "code",
   "execution_count": null,
   "metadata": {},
   "outputs": [],
   "source": [
    "def compose(f, g):\n",
    "    \"\"\"Композиция: (f ∘ g)(x) = f(g(x))\"\"\"\n",
    "    return lambda x: f(g(x))\n",
    "\n",
    "add_10 = lambda x: x + 10\n",
    "multiply_by_2 = lambda x: x * 2\n",
    "\n",
    "# Сначала умножаем, потом прибавляем\n",
    "transform = compose(add_10, multiply_by_2)\n",
    "print(f\"compose(add_10, multiply_by_2)(5) = {transform(5)}\")  # (5*2)+10 = 20"
   ]
  },
  {
   "cell_type": "markdown",
   "metadata": {},
   "source": [
    "### 2. Частичное применение (partial application)"
   ]
  },
  {
   "cell_type": "code",
   "execution_count": null,
   "metadata": {},
   "outputs": [],
   "source": [
    "def partial(f, *fixed_args):\n",
    "    \"\"\"Фиксирует первые аргументы функции\"\"\"\n",
    "    return lambda *remaining_args: f(*fixed_args, *remaining_args)\n",
    "\n",
    "def greet(greeting, name):\n",
    "    return f\"{greeting}, {name}!\"\n",
    "\n",
    "say_hello = partial(greet, \"Привет\")\n",
    "say_goodbye = partial(greet, \"До свидания\")\n",
    "\n",
    "print(say_hello('Алиса'))\n",
    "print(say_goodbye('Боб'))"
   ]
  },
  {
   "cell_type": "markdown",
   "metadata": {},
   "source": [
    "### 3. Функции высшего порядка"
   ]
  },
  {
   "cell_type": "code",
   "execution_count": null,
   "metadata": {},
   "outputs": [],
   "source": [
    "from functools import reduce\n",
    "\n",
    "numbers = [1, 2, 3, 4, 5]\n",
    "\n",
    "# map, filter, reduce — всё из функционального программирования\n",
    "squared = list(map(lambda x: x**2, numbers))\n",
    "evens = list(filter(lambda x: x % 2 == 0, numbers))\n",
    "sum_all = reduce(lambda acc, x: acc + x, numbers, 0)\n",
    "\n",
    "print(f\"Возведение в квадрат: {squared}\")\n",
    "print(f\"Только чётные: {evens}\")\n",
    "print(f\"Сумма всех: {sum_all}\")"
   ]
  },
  {
   "cell_type": "markdown",
   "metadata": {},
   "source": [
    "## Заключение\n",
    "\n",
    "Лямбда-исчисление показало, что:\n",
    "\n",
    "1. **Функции — универсальный строительный блок вычислений**\n",
    "2. **Из простых правил можно построить сложные системы**\n",
    "3. **Вычисления = композиция и применение функций**\n",
    "\n",
    "Эти идеи лежат в основе:\n",
    "- Функционального программирования (Haskell, Lisp, ML)\n",
    "- Функций высшего порядка в современных языках\n",
    "- Замыканий и лексического скоупа\n",
    "- Иммутабельности и чистых функций\n",
    "- Систем типов и type inference\n",
    "\n",
    "**Когда вы пишете `.map()`, `.filter()`, используете замыкания или композицию — вы применяете принципы лямбда-исчисления!**"
   ]
  },
  {
   "cell_type": "code",
   "execution_count": null,
   "metadata": {},
   "outputs": [],
   "source": [
    "print(\"=\"*50)\n",
    "print(\"Поздравляю! Вы прошли путь от теории к практике.\")\n",
    "print(\"=\"*50)"
   ]
  }
 ],
 "metadata": {
  "kernelspec": {
   "display_name": ".venv (3.10.12)",
   "language": "python",
   "name": "python3"
  },
  "language_info": {
   "codemirror_mode": {
    "name": "ipython",
    "version": 3
   },
   "file_extension": ".py",
   "mimetype": "text/x-python",
   "name": "python",
   "nbconvert_exporter": "python",
   "pygments_lexer": "ipython3",
   "version": "3.10.12"
  }
 },
 "nbformat": 4,
 "nbformat_minor": 4
}
