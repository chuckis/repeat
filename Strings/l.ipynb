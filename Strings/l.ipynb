{
 "cells": [
  {
   "cell_type": "markdown",
   "metadata": {},
   "source": [
    "# Строки.\n",
    "- свойства строк в Python\n",
    "- функции и методы\n",
    "- упражнения"
   ]
  },
  {
   "cell_type": "code",
   "execution_count": 4,
   "metadata": {},
   "outputs": [
    {
     "data": {
      "text/plain": [
       "('Asdf', 'Asdf')"
      ]
     },
     "execution_count": 4,
     "metadata": {},
     "output_type": "execute_result"
    }
   ],
   "source": [
    "s = \"Asdf\"\n",
    "s1 = 'Asdf'\n",
    "s, s1"
   ]
  },
  {
   "cell_type": "code",
   "execution_count": 7,
   "metadata": {},
   "outputs": [
    {
     "data": {
      "text/plain": [
       "'ASDF'"
      ]
     },
     "execution_count": 7,
     "metadata": {},
     "output_type": "execute_result"
    }
   ],
   "source": [
    "s.upper()"
   ]
  },
  {
   "cell_type": "code",
   "execution_count": 8,
   "metadata": {},
   "outputs": [
    {
     "data": {
      "text/plain": [
       "'Asdf'"
      ]
     },
     "execution_count": 8,
     "metadata": {},
     "output_type": "execute_result"
    }
   ],
   "source": [
    "s"
   ]
  },
  {
   "cell_type": "markdown",
   "metadata": {},
   "source": [
    "Строки неизменяемы."
   ]
  },
  {
   "cell_type": "markdown",
   "metadata": {},
   "source": [
    "Обращаться к элементам строки можно как в массивах"
   ]
  },
  {
   "cell_type": "code",
   "execution_count": 9,
   "metadata": {},
   "outputs": [
    {
     "name": "stdout",
     "output_type": "stream",
     "text": [
      "A f\n"
     ]
    }
   ],
   "source": [
    "print(s[0], s[len(s)-1])"
   ]
  },
  {
   "cell_type": "code",
   "execution_count": 10,
   "metadata": {},
   "outputs": [
    {
     "name": "stdout",
     "output_type": "stream",
     "text": [
      "sd fdsA Asdf\n"
     ]
    }
   ],
   "source": [
    "print(s[1:3], s[::-1], s)"
   ]
  },
  {
   "cell_type": "code",
   "execution_count": 11,
   "metadata": {},
   "outputs": [
    {
     "name": "stdout",
     "output_type": "stream",
     "text": [
      "Adsf\n"
     ]
    }
   ],
   "source": [
    "print(s.replace('sd', 'ds'))"
   ]
  },
  {
   "cell_type": "code",
   "execution_count": 12,
   "metadata": {},
   "outputs": [
    {
     "data": {
      "text/plain": [
       "0"
      ]
     },
     "execution_count": 12,
     "metadata": {},
     "output_type": "execute_result"
    }
   ],
   "source": [
    "s.count('a')"
   ]
  },
  {
   "cell_type": "code",
   "execution_count": 14,
   "metadata": {},
   "outputs": [
    {
     "name": "stdout",
     "output_type": "stream",
     "text": [
      "as\n",
      "df\n",
      "5\n"
     ]
    }
   ],
   "source": [
    "s = 'as\\ndf'\n",
    "print(s)\n",
    "print(len(s))"
   ]
  },
  {
   "cell_type": "code",
   "execution_count": 15,
   "metadata": {},
   "outputs": [
    {
     "name": "stdout",
     "output_type": "stream",
     "text": [
      "as\tdf\n"
     ]
    }
   ],
   "source": [
    "s1 = 'as\\tdf'\n",
    "print(s1)"
   ]
  },
  {
   "cell_type": "code",
   "execution_count": 16,
   "metadata": {},
   "outputs": [],
   "source": [
    "lorem = 'Lorem ipsum dolor sit amet, consectetur adipiscing elit. Nunc tincidunt sem sapien, nec eleifend nibh luctus ac. Nulla sed feugiat dolor, commodo tincidunt nunc. Phasellus scelerisque tristique velit ut commodo. Curabitur non nulla ultricies, pellentesque nunc quis, fringilla mauris. Nullam et venenatis neque. '"
   ]
  },
  {
   "cell_type": "code",
   "execution_count": 21,
   "metadata": {},
   "outputs": [
    {
     "data": {
      "text/plain": [
       "7"
      ]
     },
     "execution_count": 21,
     "metadata": {},
     "output_type": "execute_result"
    }
   ],
   "source": [
    "len(lorem.split('.'))"
   ]
  },
  {
   "cell_type": "markdown",
   "metadata": {},
   "source": [
    "Так можно подсчитать кол-во предложений, например"
   ]
  },
  {
   "cell_type": "code",
   "execution_count": 24,
   "metadata": {},
   "outputs": [
    {
     "data": {
      "text/plain": [
       "'Lorem ipsum dolor sit amet, consectetur adipiscing elit! Nunc tincidunt sem sapien, nec eleifend nibh luctus ac! Nulla sed feugiat dolor, commodo tincidunt nunc! Phasellus scelerisque tristique velit ut commodo! Curabitur non nulla ultricies, pellentesque nunc quis, fringilla mauris! Nullam et venenatis neque! '"
      ]
     },
     "execution_count": 24,
     "metadata": {},
     "output_type": "execute_result"
    }
   ],
   "source": [
    "alist = lorem.split('.')\n",
    "type(alist)\n",
    "'!'.join(alist)"
   ]
  },
  {
   "cell_type": "code",
   "execution_count": null,
   "metadata": {},
   "outputs": [
    {
     "name": "stdout",
     "output_type": "stream",
     "text": [
      "а\n",
      "ла\n",
      "гла\n",
      "огла\n",
      "рогла\n",
      "ирогла\n",
      "тирогла\n",
      "мтирогла\n",
      "мтирогла\n"
     ]
    }
   ],
   "source": [
    "s = 'алгоритм'\n",
    "s_new = ''\n",
    "for i in range(len(s)):\n",
    "    s_new = s[i] + s_new\n",
    "    print(s_new)\n"
   ]
  },
  {
   "cell_type": "code",
   "execution_count": 27,
   "metadata": {},
   "outputs": [
    {
     "name": "stdout",
     "output_type": "stream",
     "text": [
      "алгоритм"
     ]
    }
   ],
   "source": [
    "for char in s:\n",
    "    print(char, end='')"
   ]
  },
  {
   "cell_type": "markdown",
   "metadata": {},
   "source": [
    "Подсчитать кол-во гласных букв в строке:"
   ]
  },
  {
   "cell_type": "code",
   "execution_count": 28,
   "metadata": {},
   "outputs": [
    {
     "name": "stdout",
     "output_type": "stream",
     "text": [
      "3\n"
     ]
    }
   ],
   "source": [
    "vowels = 'аеиоуэюя'\n",
    "count_vowels = 0\n",
    "for char in s:\n",
    "    if char in vowels:\n",
    "        count_vowels += 1\n",
    "        \n",
    "print(count_vowels)"
   ]
  }
 ],
 "metadata": {
  "kernelspec": {
   "display_name": "Python 3 (ipykernel)",
   "language": "python",
   "name": "python3"
  },
  "language_info": {
   "codemirror_mode": {
    "name": "ipython",
    "version": 3
   },
   "file_extension": ".py",
   "mimetype": "text/x-python",
   "name": "python",
   "nbconvert_exporter": "python",
   "pygments_lexer": "ipython3",
   "version": "3.10.12"
  }
 },
 "nbformat": 4,
 "nbformat_minor": 2
}
